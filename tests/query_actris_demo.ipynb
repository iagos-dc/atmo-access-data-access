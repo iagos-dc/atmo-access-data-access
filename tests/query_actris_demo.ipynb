{
 "cells": [
  {
   "cell_type": "code",
   "execution_count": 1,
   "id": "2ddb30a7-8806-4ffa-8820-e449d2be7462",
   "metadata": {},
   "outputs": [],
   "source": [
    "import xarray as xr\n",
    "from atmoaccess_data_access import query_actris"
   ]
  },
  {
   "cell_type": "code",
   "execution_count": 2,
   "id": "ec939c06-32c0-4d27-98d3-a69e4da1188e",
   "metadata": {},
   "outputs": [
    {
     "data": {
      "text/plain": [
       "[{'short_name': '0hfk',\n",
       "  'latitude': 44.6538,\n",
       "  'longitude': 11.6228,\n",
       "  'long_name': 'San Pietro Capofiume',\n",
       "  'URI': 'https://dev-actris-md2.nilu.no//facilities/0hfk',\n",
       "  'altitude': 10.0},\n",
       " {'short_name': '0lym',\n",
       "  'latitude': 50.908,\n",
       "  'longitude': 6.413,\n",
       "  'long_name': 'Julich',\n",
       "  'URI': 'https://dev-actris-md2.nilu.no//facilities/0lym',\n",
       "  'altitude': 111.0},\n",
       " {'short_name': '56kt',\n",
       "  'latitude': 44.523586,\n",
       "  'longitude': 11.338474,\n",
       "  'long_name': 'ISAC Bologna II',\n",
       "  'URI': 'https://dev-actris-md2.nilu.no//facilities/56kt',\n",
       "  'altitude': 54.0},\n",
       " {'short_name': '5qss',\n",
       "  'latitude': 37.164,\n",
       "  'longitude': -3.605,\n",
       "  'long_name': 'Granada',\n",
       "  'URI': 'https://dev-actris-md2.nilu.no//facilities/5qss',\n",
       "  'altitude': 680.0}]"
      ]
     },
     "execution_count": 2,
     "metadata": {},
     "output_type": "execute_result"
    }
   ],
   "source": [
    "platforms = query_actris.get_list_platforms()\n",
    "platforms[:4]"
   ]
  },
  {
   "cell_type": "code",
   "execution_count": 3,
   "id": "7115647c-aee3-42fb-8565-f74ac1a44bab",
   "metadata": {},
   "outputs": [],
   "source": [
    "variables = query_actris.get_list_variables()"
   ]
  },
  {
   "cell_type": "code",
   "execution_count": 4,
   "id": "b905b918-573f-45ef-be57-d15bf9d01490",
   "metadata": {},
   "outputs": [
    {
     "data": {
      "text/plain": [
       "[{'variable_name': 'aerosol particle aluminium mass concentration',\n",
       "  'ECV_name': ['Aerosol Chemical Properties']},\n",
       " {'variable_name': 'aerosol particle ammonium mass concentration',\n",
       "  'ECV_name': ['Aerosol Chemical Properties']},\n",
       " {'variable_name': 'aerosol particle arsenic mass concentration',\n",
       "  'ECV_name': ['Aerosol Chemical Properties']}]"
      ]
     },
     "execution_count": 4,
     "metadata": {},
     "output_type": "execute_result"
    }
   ],
   "source": [
    "variables[:3]"
   ]
  },
  {
   "cell_type": "code",
   "execution_count": 5,
   "id": "0db25d07-fdda-448f-9edc-08e409a399c3",
   "metadata": {},
   "outputs": [
    {
     "ename": "KeyError",
     "evalue": "'ecv_variables'",
     "output_type": "error",
     "traceback": [
      "\u001b[0;31m---------------------------------------------------------------------------\u001b[0m",
      "\u001b[0;31mKeyError\u001b[0m                                  Traceback (most recent call last)",
      "File \u001b[0;32m<timed exec>:1\u001b[0m\n",
      "File \u001b[0;32m~/mambaforge/envs/aats_new/lib/python3.11/site-packages/atmoaccess_data_access/query_actris.py:142\u001b[0m, in \u001b[0;36mquery_datasets_stations\u001b[0;34m(codes, variables_list, temporal_extent)\u001b[0m\n\u001b[1;32m    136\u001b[0m     t0, t1 \u001b[38;5;241m=\u001b[39m \u001b[38;5;28mmap\u001b[39m(pd\u001b[38;5;241m.\u001b[39mto_datetime, temporal_extent)\n\u001b[1;32m    137\u001b[0m     all_datasets \u001b[38;5;241m=\u001b[39m \u001b[38;5;28mfilter\u001b[39m(\n\u001b[1;32m    138\u001b[0m         \u001b[38;5;28;01mlambda\u001b[39;00m ds: \u001b[38;5;129;01mnot\u001b[39;00m (pd\u001b[38;5;241m.\u001b[39mto_datetime(ds[\u001b[38;5;124m'\u001b[39m\u001b[38;5;124mtime_period\u001b[39m\u001b[38;5;124m'\u001b[39m][\u001b[38;5;241m0\u001b[39m]) \u001b[38;5;241m>\u001b[39m t1 \u001b[38;5;129;01mor\u001b[39;00m pd\u001b[38;5;241m.\u001b[39mto_datetime(ds[\u001b[38;5;124m'\u001b[39m\u001b[38;5;124mtime_period\u001b[39m\u001b[38;5;124m'\u001b[39m][\u001b[38;5;241m1\u001b[39m]) \u001b[38;5;241m<\u001b[39m t0),\n\u001b[1;32m    139\u001b[0m         all_datasets\n\u001b[1;32m    140\u001b[0m     )\n\u001b[0;32m--> 142\u001b[0m \u001b[38;5;28;01mreturn\u001b[39;00m \u001b[38;5;28;43mlist\u001b[39;49m\u001b[43m(\u001b[49m\u001b[43mall_datasets\u001b[49m\u001b[43m)\u001b[49m\n",
      "File \u001b[0;32m~/mambaforge/envs/aats_new/lib/python3.11/site-packages/atmoaccess_data_access/query_actris.py:134\u001b[0m, in \u001b[0;36mquery_datasets_stations.<locals>.<lambda>\u001b[0;34m(ds)\u001b[0m\n\u001b[1;32m    132\u001b[0m \u001b[38;5;28;01mif\u001b[39;00m variables_list \u001b[38;5;129;01mis\u001b[39;00m \u001b[38;5;129;01mnot\u001b[39;00m \u001b[38;5;28;01mNone\u001b[39;00m:\n\u001b[1;32m    133\u001b[0m     _variables \u001b[38;5;241m=\u001b[39m \u001b[38;5;28mset\u001b[39m(variables_list)\n\u001b[0;32m--> 134\u001b[0m     all_datasets \u001b[38;5;241m=\u001b[39m \u001b[38;5;28mfilter\u001b[39m(\u001b[38;5;28;01mlambda\u001b[39;00m ds: \u001b[38;5;129;01mnot\u001b[39;00m _variables\u001b[38;5;241m.\u001b[39misdisjoint(\u001b[43mds\u001b[49m\u001b[43m[\u001b[49m\u001b[38;5;124;43m'\u001b[39;49m\u001b[38;5;124;43mecv_variables\u001b[39;49m\u001b[38;5;124;43m'\u001b[39;49m\u001b[43m]\u001b[49m), all_datasets)\n\u001b[1;32m    135\u001b[0m \u001b[38;5;28;01mif\u001b[39;00m temporal_extent \u001b[38;5;129;01mis\u001b[39;00m \u001b[38;5;129;01mnot\u001b[39;00m \u001b[38;5;28;01mNone\u001b[39;00m:\n\u001b[1;32m    136\u001b[0m     t0, t1 \u001b[38;5;241m=\u001b[39m \u001b[38;5;28mmap\u001b[39m(pd\u001b[38;5;241m.\u001b[39mto_datetime, temporal_extent)\n",
      "\u001b[0;31mKeyError\u001b[0m: 'ecv_variables'"
     ]
    }
   ],
   "source": [
    "%%time\n",
    "datasets = query_actris.query_datasets_stations(['56kt'], variables_list=['Aerosol Chemical Properties'], temporal_extent=['2010-01-01', '2015-12-31'])"
   ]
  },
  {
   "cell_type": "code",
   "execution_count": 6,
   "id": "3bf90e81-4e75-423c-bc33-1075b2c8c111",
   "metadata": {},
   "outputs": [
    {
     "name": "stdout",
     "output_type": "stream",
     "text": [
      "CPU times: user 11.7 s, sys: 781 ms, total: 12.5 s\n",
      "Wall time: 2min 56s\n"
     ]
    }
   ],
   "source": [
    "%%time\n",
    "datasets = query_actris.query_datasets_stations(['0lym', '5qss'])"
   ]
  },
  {
   "cell_type": "code",
   "execution_count": 7,
   "id": "027297d9-397f-4fa9-97e3-a0652f00b03c",
   "metadata": {},
   "outputs": [
    {
     "data": {
      "text/plain": [
       "21802"
      ]
     },
     "execution_count": 7,
     "metadata": {},
     "output_type": "execute_result"
    }
   ],
   "source": [
    "len(datasets)"
   ]
  },
  {
   "cell_type": "code",
   "execution_count": 8,
   "id": "ad0cdbb8-0c1e-4813-b89e-146ba3faf026",
   "metadata": {},
   "outputs": [
    {
     "data": {
      "text/plain": [
       "{'id': '672de7ae1b863ea7d96a7d6f',\n",
       " 'md_metadata': {'id': 85169,\n",
       "  'provider': {'name': 'CLU', 'atom': 'http://localhost:5009/providers/11'},\n",
       "  'file_identifier': '20230605_juelich_drizzle.nc',\n",
       "  'language': 'en',\n",
       "  'hierarchy_level': 'dataset',\n",
       "  'online_resource': {'linkage': 'https://cloudnet.fmi.fi/'},\n",
       "  'datestamp': '2024-06-10T09:00:25.192868Z',\n",
       "  'created': '2024-06-10T09:00:27Z',\n",
       "  'contact': [{'first_name': 'Ewan',\n",
       "    'last_name': \"O'Connor\",\n",
       "    'organisation_name': 'Finnish Meteorological Institute (FMI)',\n",
       "    'role_code': ['pointOfContact'],\n",
       "    'country_code': 'FI'}]},\n",
       " 'md_identification': {'abstract': 'Drizzle data derived from cloud remote sensing measurements at Jülich',\n",
       "  'title': 'Drizzle data derived from cloud remote sensing measurements at Jülich',\n",
       "  'date_type': 'creation',\n",
       "  'contact': [{'first_name': 'Simo',\n",
       "    'last_name': 'Tukiainen',\n",
       "    'organisation_name': 'Finnish Meteorological Institute (FMI)',\n",
       "    'role_code': ['processor'],\n",
       "    'country_code': 'FI'}],\n",
       "  'online_resource': {'linkage': 'https://cloudnet.fmi.fi/file/e2cd0f54-ba48-43a0-be18-ea2ce829febd'},\n",
       "  'identifier': {'pid': 'https://hdl.handle.net/21.12132/1.e2cd0f54ba4843a0',\n",
       "   'type': 'handle'},\n",
       "  'date': '2023-06-05T00:00:00Z'},\n",
       " 'md_constraints': {'access_constraints': 'license',\n",
       "  'use_constraints': 'license',\n",
       "  'other_constraints': 'N/A',\n",
       "  'data_licence': 'CC-BY-4.0',\n",
       "  'metadata_licence': 'CC-BY-4.0',\n",
       "  'citation': \"Pfitzenmaier, L., Pospichal, B., Schween, J., O'Connor, E., & Löhnert, U. (2023). Drizzle data from Jülich on 5 June 2023. ACTRIS Cloud remote sensing data centre unit (CLU). https://hdl.handle.net/21.12132/1.e2cd0f54ba4843a0\",\n",
       "  'acknowledgement': 'We acknowledge ACTRIS and Finnish Meteorological Institute for providing the data set which is available for download from https://cloudnet.fmi.fi. We acknowledge ECMWF for providing IFS model data.'},\n",
       " 'md_keywords': {'keywords': ['actris', 'drizzle', 'fmi']},\n",
       " 'md_data_identification': {'language': 'en',\n",
       "  'topic_category': 'climatologyMeteorologyAtmosphere',\n",
       "  'description': 'time series of profile measurements',\n",
       "  'facility': {'identifier': '0lym',\n",
       "   'name': 'Julich',\n",
       "   'lat': 50.908,\n",
       "   'lon': 6.413,\n",
       "   'alt': 111.0,\n",
       "   'country_code': 'DE',\n",
       "   'wmo_region': 'Europe',\n",
       "   'identifier_type': 'other PID',\n",
       "   'uri': 'http://www.joyce.cloud/',\n",
       "   'active': True,\n",
       "   'actris_national_facility': True,\n",
       "   'actris_nf_uri': 'https://actris-nf-labelling.out.ocp.fmi.fi/facility/48',\n",
       "   'facility_type': ['observation platform, fixed']}},\n",
       " 'ex_geographic_bounding_box': {'west_bound_longitude': 6.413,\n",
       "  'east_bound_longitude': 6.413,\n",
       "  'south_bound_latitude': 50.908,\n",
       "  'north_bound_latitude': 50.908},\n",
       " 'ex_temporal_extent': {'time_period_begin': '2023-06-05T00:00:00Z',\n",
       "  'time_period_end': '2023-06-05T23:59:59.999999Z'},\n",
       " 'md_content_information': {'attribute_descriptions': ['air vertical velocity',\n",
       "   'drizzle droplet equivolumetric median diameter',\n",
       "   'drizzle droplet mass concentration',\n",
       "   'drizzle droplet mass vertical flux',\n",
       "   'drizzle droplet number concentration'],\n",
       "  'content_type': 'physicalMeasurement'},\n",
       " 'md_distribution_information': [{'data_format': 'netcdf',\n",
       "   'version_data_format': 'HDF5 (NetCDF4)',\n",
       "   'dataset_url': 'https://cloudnet.fmi.fi/api/download/product/e2cd0f54-ba48-43a0-be18-ea2ce829febd/20230605_juelich_drizzle.nc',\n",
       "   'protocol': 'HTTP',\n",
       "   'function': 'download',\n",
       "   'restriction': {'set': False},\n",
       "   'transfersize': 0.164,\n",
       "   'description': 'Direct download of data file'}],\n",
       " 'md_actris_specific': {'facility_type': 'observation platform, fixed',\n",
       "  'product_type': 'observation',\n",
       "  'matrix': 'cloud phase',\n",
       "  'instrument_type': ['cloud radar', 'lidar', 'microwave radiometer'],\n",
       "  'program_affiliation': ['ACTRIS', 'CLOUDNET'],\n",
       "  'legacy_data': False,\n",
       "  'observation_timeliness': 'near real-time',\n",
       "  'data_product': 'near real-time data'},\n",
       " 'dq_data_quality_information': {'level': 'dataset',\n",
       "  'compliance': 'ACTRIS compliant'}}"
      ]
     },
     "execution_count": 8,
     "metadata": {},
     "output_type": "execute_result"
    }
   ],
   "source": [
    "datasets[0]"
   ]
  },
  {
   "cell_type": "code",
   "execution_count": 9,
   "id": "5517cb77-478a-409a-90ca-2647e394f1c9",
   "metadata": {},
   "outputs": [],
   "source": [
    "ds = query_actris.read_dataset(variables_list=['Aerosol Chemical Properties'])"
   ]
  },
  {
   "cell_type": "code",
   "execution_count": 10,
   "id": "211bf495-345d-4629-a1b1-d18ec73e0623",
   "metadata": {},
   "outputs": [
    {
     "ename": "AssertionError",
     "evalue": "ds should be an instance of an xarray object; got <class 'list'>",
     "output_type": "error",
     "traceback": [
      "\u001b[0;31m---------------------------------------------------------------------------\u001b[0m",
      "\u001b[0;31mAssertionError\u001b[0m                            Traceback (most recent call last)",
      "Cell \u001b[0;32mIn[10], line 1\u001b[0m\n\u001b[0;32m----> 1\u001b[0m \u001b[38;5;28;01massert\u001b[39;00m \u001b[38;5;28misinstance\u001b[39m(ds, (xr\u001b[38;5;241m.\u001b[39mDataset, xr\u001b[38;5;241m.\u001b[39mDataArray)), \u001b[38;5;124mf\u001b[39m\u001b[38;5;124m'\u001b[39m\u001b[38;5;124mds should be an instance of an xarray object; got \u001b[39m\u001b[38;5;132;01m{\u001b[39;00m\u001b[38;5;28mtype\u001b[39m(ds)\u001b[38;5;132;01m}\u001b[39;00m\u001b[38;5;124m'\u001b[39m\n",
      "\u001b[0;31mAssertionError\u001b[0m: ds should be an instance of an xarray object; got <class 'list'>"
     ]
    }
   ],
   "source": [
    "assert isinstance(ds, (xr.Dataset, xr.DataArray)), f'ds should be an instance of an xarray object; got {type(ds)}'"
   ]
  },
  {
   "cell_type": "code",
   "execution_count": 11,
   "id": "c5848838-a33f-4cff-848b-24822d16734a",
   "metadata": {},
   "outputs": [
    {
     "data": {
      "text/plain": [
       "0"
      ]
     },
     "execution_count": 11,
     "metadata": {},
     "output_type": "execute_result"
    }
   ],
   "source": [
    "len(ds)"
   ]
  },
  {
   "cell_type": "code",
   "execution_count": 12,
   "id": "472c0b6c-a9de-4bb0-9978-83cf8030b175",
   "metadata": {},
   "outputs": [],
   "source": [
    "# as demonstrated above, the parameter variable_list does not accept a list of ECV variable names\n",
    "# try with variable names from ACTRIS' vocabulary\n",
    "ds = query_actris.read_dataset(variables_list=['aerosol particle aluminium mass concentration'])"
   ]
  },
  {
   "cell_type": "code",
   "execution_count": 13,
   "id": "931ea666-bd6e-456d-94e9-0bd4470ade4c",
   "metadata": {},
   "outputs": [
    {
     "data": {
      "text/plain": [
       "266"
      ]
     },
     "execution_count": 13,
     "metadata": {},
     "output_type": "execute_result"
    }
   ],
   "source": [
    "len(ds)"
   ]
  },
  {
   "cell_type": "code",
   "execution_count": 14,
   "id": "f11d3e72-e15c-42af-92a4-bac02d6c3d48",
   "metadata": {},
   "outputs": [
    {
     "data": {
      "text/plain": [
       "'https://thredds.nilu.no/thredds/fileServer/ebas_doi/TZ/PK/W2/TZPK-W2VQ.nc'"
      ]
     },
     "execution_count": 14,
     "metadata": {},
     "output_type": "execute_result"
    }
   ],
   "source": [
    "ds[0]"
   ]
  }
 ],
 "metadata": {
  "kernelspec": {
   "display_name": "aats_new",
   "language": "python",
   "name": "aats_new"
  },
  "language_info": {
   "codemirror_mode": {
    "name": "ipython",
    "version": 3
   },
   "file_extension": ".py",
   "mimetype": "text/x-python",
   "name": "python",
   "nbconvert_exporter": "python",
   "pygments_lexer": "ipython3",
   "version": "3.11.10"
  }
 },
 "nbformat": 4,
 "nbformat_minor": 5
}
